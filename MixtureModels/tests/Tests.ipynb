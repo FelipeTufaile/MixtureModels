{
  "nbformat": 4,
  "nbformat_minor": 0,
  "metadata": {
    "colab": {
      "provenance": [],
      "authorship_tag": "ABX9TyOBMkfzZXqRozsfQfqWGEB7",
      "include_colab_link": true
    },
    "kernelspec": {
      "name": "python3",
      "display_name": "Python 3"
    },
    "language_info": {
      "name": "python"
    }
  },
  "cells": [
    {
      "cell_type": "markdown",
      "metadata": {
        "id": "view-in-github",
        "colab_type": "text"
      },
      "source": [
        "<a href=\"https://colab.research.google.com/github/FelipeTufaile/MixtureModels/blob/main/MixtureModels/tests/Tests.ipynb\" target=\"_parent\"><img src=\"https://colab.research.google.com/assets/colab-badge.svg\" alt=\"Open In Colab\"/></a>"
      ]
    },
    {
      "cell_type": "code",
      "execution_count": 1,
      "metadata": {
        "id": "6xU7j7uVwc_o"
      },
      "outputs": [],
      "source": [
        "\"\"\"Mixture model for collaborative filtering\"\"\"\n",
        "from typing import NamedTuple, Tuple\n",
        "import numpy as np\n",
        "from matplotlib import pyplot as plt\n",
        "from matplotlib.patches import Circle, Arc"
      ]
    },
    {
      "cell_type": "code",
      "source": [
        "class GaussianMixture():\n",
        "  \"\"\"\n",
        "  Tuple holding a gaussian mixture\n",
        "\n",
        "  mu: np.ndarray  # (K, d) array - each row corresponds to a gaussian component mean\n",
        "  var: np.ndarray  # (K, ) array - each row corresponds to the variance of a component\n",
        "  p: np.ndarray  # (K, ) array = each row corresponds to the weight of a component\n",
        "  \"\"\"\n",
        "\n",
        "  def __init__(self, k, seed = 0):\n",
        "    \"\"\"\n",
        "    Initializes the gaussian mixture model.\n",
        "\n",
        "    Args:\n",
        "        K (int): number of components\n",
        "        seed (int): random seed\n",
        "\n",
        "    Returns:\n",
        "        mixture: the initialized gaussian mixture model\n",
        "    \"\"\"\n",
        "    # Storing k\n",
        "    self.k = k\n",
        "\n",
        "    # Storing seed\n",
        "    self.seed = seed\n",
        "\n",
        "    # Initializing the weight of each component (cluster)\n",
        "    self.p = np.ones(k) / k\n",
        "\n",
        "    # Initialize the mean array as an array of zeros\n",
        "    self.mu = np.zeros(self.k)\n",
        "\n",
        "    # Initialize the variance array as an array of zeros\n",
        "    self.var = np.zeros(self.k)"
      ],
      "metadata": {
        "id": "p4L5t8lXwmSd"
      },
      "execution_count": 4,
      "outputs": []
    },
    {
      "cell_type": "code",
      "source": [
        "gm = GaussianMixture(k=3)"
      ],
      "metadata": {
        "id": "MwLelsbGYQb3"
      },
      "execution_count": 6,
      "outputs": []
    },
    {
      "cell_type": "code",
      "source": [
        "gm.var"
      ],
      "metadata": {
        "id": "PLQkidI-Yi76",
        "outputId": "df5bf8d3-712f-4b0b-d7c6-9c85ea48786a",
        "colab": {
          "base_uri": "https://localhost:8080/"
        }
      },
      "execution_count": 9,
      "outputs": [
        {
          "output_type": "execute_result",
          "data": {
            "text/plain": [
              "array([0., 0., 0.])"
            ]
          },
          "metadata": {},
          "execution_count": 9
        }
      ]
    },
    {
      "cell_type": "code",
      "source": [
        "def __init__(self, x, k, seed = 0):\n",
        "    \"\"\"Initializes the mixture model with random points as initial\n",
        "    means and uniform assingments\n",
        "\n",
        "    Args:\n",
        "        X: (n, d) array holding the data\n",
        "        K: number of components\n",
        "        seed: random seed\n",
        "\n",
        "    Returns:\n",
        "        mixture: the initialized gaussian mixture\n",
        "        post: (n, K) array holding the soft counts\n",
        "            for all components for all examples\n",
        "    \"\"\"\n",
        "    # Storing x\n",
        "    self.x = x\n",
        "\n",
        "    # Storing k\n",
        "    self.k = k\n",
        "\n",
        "    # Storing seed\n",
        "    self.seed = 0\n",
        "\n",
        "    # Setting seed\n",
        "    np.random.seed(seed)\n",
        "\n",
        "    # Calculating the number of samples \"n\" in the data\n",
        "    n, _ = x.shape\n",
        "\n",
        "    # Initializing the weight of each component (cluster)\n",
        "    self.p = np.ones(k) / k\n",
        "\n",
        "    # Select k random points from the the samples as initial means\n",
        "    self.mu = x[np.random.choice(n, k, replace=False)]\n",
        "\n",
        "    # Initialize the variance object as a vector of zeros\n",
        "    self.var = np.zeros(self.k)\n",
        "\n",
        "    # Compute variance for each component (cluster)\n",
        "    for j in range(self.k):\n",
        "        self.var[j] = ((x -self.mu[j])**2).mean()\n",
        "\n",
        "    # Calculating posterior\n",
        "    self.post = np.ones((n, self.k)) / self.k"
      ],
      "metadata": {
        "id": "HjovrHflT_Fk"
      },
      "execution_count": null,
      "outputs": []
    }
  ]
}