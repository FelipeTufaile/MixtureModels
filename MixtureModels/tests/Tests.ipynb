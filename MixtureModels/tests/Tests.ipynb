{
  "nbformat": 4,
  "nbformat_minor": 0,
  "metadata": {
    "colab": {
      "provenance": [],
      "authorship_tag": "ABX9TyMbPAU18g1kcghRgFDtCHCv",
      "include_colab_link": true
    },
    "kernelspec": {
      "name": "python3",
      "display_name": "Python 3"
    },
    "language_info": {
      "name": "python"
    }
  },
  "cells": [
    {
      "cell_type": "markdown",
      "metadata": {
        "id": "view-in-github",
        "colab_type": "text"
      },
      "source": [
        "<a href=\"https://colab.research.google.com/github/FelipeTufaile/MixtureModels/blob/main/MixtureModels/tests/Tests.ipynb\" target=\"_parent\"><img src=\"https://colab.research.google.com/assets/colab-badge.svg\" alt=\"Open In Colab\"/></a>"
      ]
    },
    {
      "cell_type": "code",
      "execution_count": 158,
      "metadata": {
        "id": "6xU7j7uVwc_o"
      },
      "outputs": [],
      "source": [
        "import numpy as np\n",
        "from matplotlib import pyplot as plt\n",
        "from matplotlib.patches import Circle, Arc"
      ]
    },
    {
      "cell_type": "code",
      "source": [
        "# Generating a random Gaussian distribution\n",
        "samples1 = np.random.normal(np.array([5.0, 5.0]), np.array([0.25, 0.25]), (100,2))\n",
        "samples2 = np.random.normal(np.array([7.5, 7.5]), np.array([0.50, 0.50]), (100,2))\n",
        "samples3 = np.random.normal(np.array([2.5, 2.5]), np.array([0.75, 0.75]), (100,2))\n",
        "\n",
        "# Concatenate the arrays vertically\n",
        "X = np.concatenate((samples1, samples2, samples3))"
      ],
      "metadata": {
        "id": "uk4k7ApkHn8w"
      },
      "execution_count": 159,
      "outputs": []
    },
    {
      "cell_type": "code",
      "source": [
        "def init_mixture(self, X):\n",
        "  \"\"\"\n",
        "  Initializes the mixture model with random points as initial means and uniform assingments\n",
        "\n",
        "  Args:\n",
        "      X: (n, d) array holding the data\n",
        "\n",
        "  Returns:\n",
        "      mixture: the initialized gaussian mixture\n",
        "      post: (n, K) array holding the soft counts for all components for all examples\n",
        "  \"\"\"\n",
        "  # Setting seed\n",
        "  np.random.seed(self.random_state)\n",
        "\n",
        "  # Calculating the number of samples \"n\" in the dataset (X array)\n",
        "  n, d = X.shape\n",
        "\n",
        "  # Initializing the weight (mixing proportions) for each component (cluster)\n",
        "  self.p = np.ones(self.k) / self.k\n",
        "\n",
        "  # Initialize the mean array with random points from X as initial means\n",
        "  self.mu = X[np.random.choice(n, self.k, replace=False),:]\n",
        "\n",
        "  # Initialize the variance array for each component (cluster)\n",
        "  self.var = np.array([np.sum((X-self.mu[j,:])**2, axis=0) for j in range(self.k)])/(n-1)\n",
        "\n",
        "  return self"
      ],
      "metadata": {
        "id": "vYEnMplLUtoq"
      },
      "execution_count": 210,
      "outputs": []
    },
    {
      "cell_type": "code",
      "source": [
        "def GaussianProbability(X, mu, var):\n",
        "    \"\"\"\n",
        "    The function calculates the probability of X belonging to the Gaussian distribution using the multivariate Gaussian PDF formula.\n",
        "\n",
        "    Args:\n",
        "        X (numpy.ndarray): Point with shape (1, d).\n",
        "        mu (numpy.ndarray): Mean of the Gaussian distribution with shape (1, d).\n",
        "        var (numpy.ndarray): Variance of the Gaussian distribution with shape (1, d).\n",
        "\n",
        "    Returns:\n",
        "        float: Probability of X belonging to the Gaussian distribution.\n",
        "    \"\"\"\n",
        "    # Ajusting the shape of X\n",
        "    X = X.reshape(1,-1)\n",
        "\n",
        "    # Ajusting the shape of mu\n",
        "    mu = mu.reshape(1,-1)\n",
        "\n",
        "    # Ajusting the shape of var\n",
        "    var = var.reshape(1,-1)\n",
        "\n",
        "    # Calculate the probability from the Gaussian Probability Density Function (PDF)\n",
        "    probability = np.exp(-0.5 * np.sum((X - mu)**2 / var)) / ((2 * np.pi)**(X.shape[1] / 2) * np.prod(np.sqrt(var)))\n",
        "\n",
        "    return probability\n"
      ],
      "metadata": {
        "id": "DF7bC-mKVOzo"
      },
      "execution_count": 161,
      "outputs": []
    },
    {
      "cell_type": "code",
      "source": [
        "def estep(X, GMM, GaussianProbability=GaussianProbability):\n",
        "    \"\"\"\n",
        "    E-step: Softly assigns each datapoint to a gaussian component\n",
        "\n",
        "    Args:\n",
        "        X: (n, d) array holding the data mixture: the current gaussian mixture\n",
        "\n",
        "    Returns:\n",
        "        np.ndarray: (n, K) array holding the soft counts for all components for all examples\n",
        "        float: log-likelihood of the assignment\n",
        "    \"\"\"\n",
        "\n",
        "    # Initializing the soft counts (posterior)\n",
        "    post = []\n",
        "\n",
        "    # Initializing the log likelihood parameter as zero\n",
        "    l_theta = np.zeros((1,GMM.k))\n",
        "\n",
        "    # Iterate over all datapoints\n",
        "    for i in range(0, X.shape[0]):\n",
        "\n",
        "        # Calculating the likelihood for the datapoint [i] belonging to each of the clusters [j]\n",
        "        p_x_theta = np.array([GMM.p[j]*GaussianProbability(X=X[i,:], mu=GMM.mu[j,:], var=GMM.var[j,:]) for j in range(GMM.k)])\n",
        "\n",
        "        # Calculating the likelihood for each cluster\n",
        "        post.append(p_x_theta/np.sum(p_x_theta))\n",
        "\n",
        "        # Updating the log-likelihood\n",
        "        l_theta += np.log(p_x_theta)\n",
        "\n",
        "    return np.array(post), l_theta"
      ],
      "metadata": {
        "id": "2EsUl2lbU3DR"
      },
      "execution_count": 162,
      "outputs": []
    },
    {
      "cell_type": "code",
      "source": [
        "def mstep(X, post, GMM):\n",
        "  \"\"\"\n",
        "  M-step: Updates the gaussian mixture by maximizing the log-likelihood of the weighted dataset\n",
        "\n",
        "  Args:\n",
        "      X: (n, d) array holding the data\n",
        "      post: (n, K) array holding the soft counts for all components for all examples\n",
        "\n",
        "  Returns:\n",
        "      GaussianMixture: the new gaussian mixture\n",
        "  \"\"\"\n",
        "  # Updating mixture proportions\n",
        "  GMM.p = post/X.shape[0]\n",
        "\n",
        "  # Updating the center of each distribution (cluster)\n",
        "  GMM.mu = (X.T@post/np.sum(post, axis=0)).T\n",
        "\n",
        "  # Updating the variance of each distribution (cluster)\n",
        "  GMM.var = np.array([np.sum(post[:,0].reshape(-1,1)*(X-GMM.mu[0,:])**2, axis=0).reshape(1,-1) for j in range(GMM.k)]).reshape(GMM.k, X.shape[1])/(X.shape[1]*np.sum(post, axis=0)).reshape(GMM.k, -1)\n",
        "\n",
        "  return GMM\n"
      ],
      "metadata": {
        "id": "rnmBxu50U6QI"
      },
      "execution_count": 241,
      "outputs": []
    },
    {
      "cell_type": "code",
      "source": [
        "class GaussianMixture():\n",
        "  \"\"\"\n",
        "  Tuple holding a gaussian mixture\n",
        "\n",
        "  mu: np.ndarray  # (K, d) array - each row corresponds to a gaussian component mean\n",
        "  var: np.ndarray  # (K, ) array - each row corresponds to the variance of a component\n",
        "  p: np.ndarray  # (K, ) array = each row corresponds to the weight of a component\n",
        "  \"\"\"\n",
        "  \"\"\"\n",
        "    Initializes the gaussian mixture model.\n",
        "\n",
        "    Args:\n",
        "        K (int): number of components\n",
        "        seed (int): random seed\n",
        "\n",
        "    Returns:\n",
        "        mixture: the initialized gaussian mixture model\n",
        "    \"\"\"\n",
        "\n",
        "  def __init__(\n",
        "      self,\n",
        "      k,\n",
        "      max_iter=10000,\n",
        "      tol=10**(-5),\n",
        "      n_init=1,\n",
        "      verbose=False,\n",
        "      random_state=0\n",
        "    ):\n",
        "\n",
        "    self.k = k\n",
        "    self.max_iter = max_iter\n",
        "    self.tol = tol\n",
        "    self.n_init = n_init\n",
        "    self.verbose = verbose\n",
        "    self.random_state = random_state\n",
        "\n",
        "  def fit(self, X, init_mixture=init_mixture, estep=estep, mstep=mstep):\n",
        "\n",
        "    # Initialize mixture\n",
        "    self = init_mixture(self, X)\n",
        "\n",
        "    post, log_likelihood = estep(X=X, GMM=self)\n",
        "\n",
        "    # Initialize l_theta\n",
        "    l_log_likelihood = []\n",
        "\n",
        "    # Initializing flag \"run\"\n",
        "    run = True\n",
        "\n",
        "    i = 1\n",
        "\n",
        "    while (run):\n",
        "\n",
        "      print(i)\n",
        "\n",
        "      # Run E-Step\n",
        "      post, log_likelihood = estep(X=X, GMM=self)\n",
        "\n",
        "      # Run M-Step\n",
        "      Self = mstep(X=X, post=post, GMM=self)\n",
        "\n",
        "      # Update the list of log_likelihood\n",
        "      l_log_likelihood.append(log_likelihood)\n",
        "\n",
        "      # Check if tolerance was matched\n",
        "      if(len(l_log_likelihood) > 1):\n",
        "        if(np.abs(l_log_likelihood[-2] - l_log_likelihood[-1]) > np.abs(l_log_likelihood[-1])*self.tol):\n",
        "          run = False\n",
        "      else:\n",
        "        if(i == 2):\n",
        "          run = False\n",
        "\n",
        "      i += 1\n",
        "\n",
        "    return self\n"
      ],
      "metadata": {
        "id": "p4L5t8lXwmSd"
      },
      "execution_count": 245,
      "outputs": []
    },
    {
      "cell_type": "code",
      "source": [
        "# Initializing a Gaussian Mixture Model\n",
        "GMM = GaussianMixture(k=3)"
      ],
      "metadata": {
        "id": "BZ4QvDlJTY4T"
      },
      "execution_count": 246,
      "outputs": []
    },
    {
      "cell_type": "code",
      "source": [
        "# Fitting a sample distribution to the model\n",
        "GMM, post, log_likelihood = GMM.fit(X=X)\n"
      ],
      "metadata": {
        "id": "FhbZ11fLTZ6y",
        "outputId": "486ce3cf-748c-47f7-d767-858e40a5e650",
        "colab": {
          "base_uri": "https://localhost:8080/",
          "height": 363
        }
      },
      "execution_count": 247,
      "outputs": [
        {
          "output_type": "stream",
          "name": "stdout",
          "text": [
            "1\n",
            "2\n"
          ]
        },
        {
          "output_type": "error",
          "ename": "ValueError",
          "evalue": "ignored",
          "traceback": [
            "\u001b[0;31m---------------------------------------------------------------------------\u001b[0m",
            "\u001b[0;31mValueError\u001b[0m                                Traceback (most recent call last)",
            "\u001b[0;32m<ipython-input-247-f1735aadc8f6>\u001b[0m in \u001b[0;36m<cell line: 2>\u001b[0;34m()\u001b[0m\n\u001b[1;32m      1\u001b[0m \u001b[0;31m# Fitting a sample distribution to the model\u001b[0m\u001b[0;34m\u001b[0m\u001b[0;34m\u001b[0m\u001b[0m\n\u001b[0;32m----> 2\u001b[0;31m \u001b[0mGMM\u001b[0m\u001b[0;34m,\u001b[0m \u001b[0mpost\u001b[0m\u001b[0;34m,\u001b[0m \u001b[0mlog_likelihood\u001b[0m \u001b[0;34m=\u001b[0m \u001b[0mGMM\u001b[0m\u001b[0;34m.\u001b[0m\u001b[0mfit\u001b[0m\u001b[0;34m(\u001b[0m\u001b[0mX\u001b[0m\u001b[0;34m=\u001b[0m\u001b[0mX\u001b[0m\u001b[0;34m)\u001b[0m\u001b[0;34m\u001b[0m\u001b[0;34m\u001b[0m\u001b[0m\n\u001b[0m",
            "\u001b[0;32m<ipython-input-245-febee8aad77e>\u001b[0m in \u001b[0;36mfit\u001b[0;34m(self, X, init_mixture, estep, mstep)\u001b[0m\n\u001b[1;32m     55\u001b[0m \u001b[0;34m\u001b[0m\u001b[0m\n\u001b[1;32m     56\u001b[0m       \u001b[0;31m# Run E-Step\u001b[0m\u001b[0;34m\u001b[0m\u001b[0;34m\u001b[0m\u001b[0m\n\u001b[0;32m---> 57\u001b[0;31m       \u001b[0mpost\u001b[0m\u001b[0;34m,\u001b[0m \u001b[0mlog_likelihood\u001b[0m \u001b[0;34m=\u001b[0m \u001b[0mestep\u001b[0m\u001b[0;34m(\u001b[0m\u001b[0mX\u001b[0m\u001b[0;34m=\u001b[0m\u001b[0mX\u001b[0m\u001b[0;34m,\u001b[0m \u001b[0mGMM\u001b[0m\u001b[0;34m=\u001b[0m\u001b[0mself\u001b[0m\u001b[0;34m)\u001b[0m\u001b[0;34m\u001b[0m\u001b[0;34m\u001b[0m\u001b[0m\n\u001b[0m\u001b[1;32m     58\u001b[0m \u001b[0;34m\u001b[0m\u001b[0m\n\u001b[1;32m     59\u001b[0m       \u001b[0;31m# Run M-Step\u001b[0m\u001b[0;34m\u001b[0m\u001b[0;34m\u001b[0m\u001b[0m\n",
            "\u001b[0;32m<ipython-input-162-d78c46d68b83>\u001b[0m in \u001b[0;36mestep\u001b[0;34m(X, GMM, GaussianProbability)\u001b[0m\n\u001b[1;32m     27\u001b[0m \u001b[0;34m\u001b[0m\u001b[0m\n\u001b[1;32m     28\u001b[0m         \u001b[0;31m# Updating the log-likelihood\u001b[0m\u001b[0;34m\u001b[0m\u001b[0;34m\u001b[0m\u001b[0m\n\u001b[0;32m---> 29\u001b[0;31m         \u001b[0ml_theta\u001b[0m \u001b[0;34m+=\u001b[0m \u001b[0mnp\u001b[0m\u001b[0;34m.\u001b[0m\u001b[0mlog\u001b[0m\u001b[0;34m(\u001b[0m\u001b[0mp_x_theta\u001b[0m\u001b[0;34m)\u001b[0m\u001b[0;34m\u001b[0m\u001b[0;34m\u001b[0m\u001b[0m\n\u001b[0m\u001b[1;32m     30\u001b[0m \u001b[0;34m\u001b[0m\u001b[0m\n\u001b[1;32m     31\u001b[0m     \u001b[0;32mreturn\u001b[0m \u001b[0mnp\u001b[0m\u001b[0;34m.\u001b[0m\u001b[0marray\u001b[0m\u001b[0;34m(\u001b[0m\u001b[0mpost\u001b[0m\u001b[0;34m)\u001b[0m\u001b[0;34m,\u001b[0m \u001b[0ml_theta\u001b[0m\u001b[0;34m\u001b[0m\u001b[0;34m\u001b[0m\u001b[0m\n",
            "\u001b[0;31mValueError\u001b[0m: non-broadcastable output operand with shape (1,3) doesn't match the broadcast shape (3,3)"
          ]
        }
      ]
    },
    {
      "cell_type": "code",
      "source": [
        "GMM.mu"
      ],
      "metadata": {
        "id": "OHeDl2A2aIK2",
        "outputId": "261524f5-b1ea-4fc4-960b-a449e89a6bea",
        "colab": {
          "base_uri": "https://localhost:8080/"
        }
      },
      "execution_count": 217,
      "outputs": [
        {
          "output_type": "execute_result",
          "data": {
            "text/plain": [
              "array([[2.52775429, 3.07592681],\n",
              "       [8.11243528, 7.53242805],\n",
              "       [4.91150152, 4.65626218]])"
            ]
          },
          "metadata": {},
          "execution_count": 217
        }
      ]
    },
    {
      "cell_type": "code",
      "source": [
        "GMM.var"
      ],
      "metadata": {
        "id": "02ViYJaqaTez",
        "outputId": "9ff0a3e6-d8d7-4c75-e695-8861f9fb813b",
        "colab": {
          "base_uri": "https://localhost:8080/"
        }
      },
      "execution_count": 218,
      "outputs": [
        {
          "output_type": "execute_result",
          "data": {
            "text/plain": [
              "array([[10.44924133,  8.07942352],\n",
              "       [14.71454568, 11.34346813],\n",
              "       [ 4.61409398,  4.67638934]])"
            ]
          },
          "metadata": {},
          "execution_count": 218
        }
      ]
    },
    {
      "cell_type": "code",
      "source": [
        "j=0\n",
        "t ="
      ],
      "metadata": {
        "id": "4OdEVin_dj6H"
      },
      "execution_count": 239,
      "outputs": []
    },
    {
      "cell_type": "code",
      "source": [
        "t.shape"
      ],
      "metadata": {
        "id": "PdjwZyOLeAKl",
        "outputId": "8e700e9f-2f46-4361-ccd7-9655041ae65a",
        "colab": {
          "base_uri": "https://localhost:8080/"
        }
      },
      "execution_count": 240,
      "outputs": [
        {
          "output_type": "execute_result",
          "data": {
            "text/plain": [
              "(3, 2)"
            ]
          },
          "metadata": {},
          "execution_count": 240
        }
      ]
    },
    {
      "cell_type": "code",
      "source": [
        "np.array([np.sum(post[:,j].reshape(X.shape[0],1)*(X-GMM.mu[j,:])**2, axis=0) for j in range(GMM.k)])"
      ],
      "metadata": {
        "id": "Pj3-dQ4ndg59"
      },
      "execution_count": null,
      "outputs": []
    },
    {
      "cell_type": "code",
      "source": [
        "# Printing Gaussian Mixture Model parameters\n",
        "for i, params in enumerate(zip(GMM.mu, GMM.var)):\n",
        "  print(f\"Center of distribution {str(i).zfill(3)} is {params[0]} and variance is {params[1]}\")"
      ],
      "metadata": {
        "id": "Bn40qNauU-CS",
        "outputId": "7f929f89-110a-443e-ae55-3697febb6b5b",
        "colab": {
          "base_uri": "https://localhost:8080/"
        }
      },
      "execution_count": 167,
      "outputs": [
        {
          "output_type": "stream",
          "name": "stdout",
          "text": [
            "Center of distribution 000 is [3.35320512 3.35605711] and variance is 3.221295426923884\n",
            "Center of distribution 001 is [6.78950845 6.77112009] and variance is 2.3558326029018333\n",
            "Center of distribution 002 is [4.94958664 4.95730559] and variance is 3.191269443706754\n"
          ]
        }
      ]
    },
    {
      "cell_type": "code",
      "source": [],
      "metadata": {
        "id": "Gu-7VuxwnDyR",
        "outputId": "b12517c6-e9fb-4753-a4a6-dfaee40f3cc3",
        "colab": {
          "base_uri": "https://localhost:8080/"
        }
      },
      "execution_count": 169,
      "outputs": [
        {
          "output_type": "execute_result",
          "data": {
            "text/plain": [
              "0"
            ]
          },
          "metadata": {},
          "execution_count": 169
        }
      ]
    },
    {
      "cell_type": "code",
      "source": [
        "def run(X: np.ndarray, mixture: GaussianMixture,\n",
        "        post: np.ndarray) -> Tuple[GaussianMixture, np.ndarray, float]:\n",
        "    \"\"\"Runs the mixture model\n",
        "\n",
        "    Args:\n",
        "        X: (n, d) array holding the data\n",
        "        post: (n, K) array holding the soft counts\n",
        "            for all components for all examples\n",
        "\n",
        "    Returns:\n",
        "        GaussianMixture: the new gaussian mixture\n",
        "        np.ndarray: (n, K) array holding the soft counts\n",
        "            for all components for all examples\n",
        "        float: log-likelihood of the current assignment\n",
        "    \"\"\"\n",
        "\n",
        "    prev_l_theta = None\n",
        "    l_theta = None\n",
        "    while (prev_l_theta is None or abs(prev_l_theta - l_theta) > abs(l_theta)*10**(-6)):\n",
        "        prev_l_theta = l_theta\n",
        "        post, l_theta = estep(X, mixture)\n",
        "        mixture = mstep(X, post)\n",
        "\n",
        "    return mixture, post, l_theta"
      ],
      "metadata": {
        "id": "icGKSVoSVAm_"
      },
      "execution_count": 167,
      "outputs": []
    },
    {
      "cell_type": "code",
      "source": [],
      "metadata": {
        "id": "fit0N_RYbuZw"
      },
      "execution_count": null,
      "outputs": []
    }
  ]
}